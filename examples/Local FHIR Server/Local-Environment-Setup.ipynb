{
 "cells": [
  {
   "cell_type": "markdown",
   "metadata": {},
   "source": [
    "# Description\n",
    "This notebook will help setup and run a HAPI FHIR server, and load synthetic data into it.\n",
    "\n",
    "# Requirements\n",
    "* Python with the `phdi` package installed\n",
    "* Java 11+ JDK - not JRE (for Synthea)\n",
    "* (recommended) wget command line tool"
   ]
  },
  {
   "cell_type": "code",
   "execution_count": null,
   "metadata": {},
   "outputs": [],
   "source": [
    "import os\n",
    "import requests\n",
    "import subprocess\n",
    "\n",
    "synthea_url = \"https://github.com/synthetichealth/synthea/releases/download/master-branch-latest/synthea-with-dependencies.jar\"\n",
    "\n",
    "\n",
    "# Download the synthea jar file\n",
    "synthea_jar_response = requests.get(synthea_url, stream=True)\n",
    "if not os.path.isdir(\"target\"):\n",
    "    os.mkdir(\"target\")\n",
    "if not os.path.exists(\"target/synthea-with-dependencies.jar\"):\n",
    "    print(\"Downloading synthea-with-dependencies.jar...\")\n",
    "    with open(\"target/synthea-with-dependencies.jar\",\"wb\") as file:\n",
    "        for chunk in synthea_jar_response.iter_content(chunk_size=1024):\n",
    "            file.write(chunk)\n",
    "\n",
    "# Create Synthea data\n",
    "subprocess.run(args=[\"java\", \"-jar\", \"synthea-with-dependencies.jar\", \"-p\", \"1000\"], cwd=\"target\")"
   ]
  },
  {
   "cell_type": "markdown",
   "metadata": {},
   "source": [
    "The command above should have generated 1000 syntentic patients in FHIR format.  Now we need to upload them to the FHIR server."
   ]
  },
  {
   "cell_type": "code",
   "execution_count": 6,
   "metadata": {},
   "outputs": [
    {
     "name": "stdout",
     "output_type": "stream",
     "text": [
      "Evaluating target/output/fhir/Lourdes258_Emelina469_Kozey370_88713f12-0afd-41db-9467-2c3bf8f740e8.json\n",
      "Importing target/output/fhir/Lourdes258_Emelina469_Kozey370_88713f12-0afd-41db-9467-2c3bf8f740e8.json\n"
     ]
    },
    {
     "ename": "AttributeError",
     "evalue": "module 'phdi' has no attribute 'fhir'",
     "output_type": "error",
     "traceback": [
      "\u001b[0;31m---------------------------------------------------------------------------\u001b[0m",
      "\u001b[0;31mAttributeError\u001b[0m                            Traceback (most recent call last)",
      "Cell \u001b[0;32mIn [6], line 14\u001b[0m\n\u001b[1;32m     12\u001b[0m \u001b[39mwith\u001b[39;00m \u001b[39mopen\u001b[39m(fhir_filepath) \u001b[39mas\u001b[39;00m fhir_file:\n\u001b[1;32m     13\u001b[0m     \u001b[39mprint\u001b[39m(\u001b[39mf\u001b[39m\u001b[39m\"\u001b[39m\u001b[39mImporting \u001b[39m\u001b[39m{\u001b[39;00mfhir_filepath\u001b[39m}\u001b[39;00m\u001b[39m\"\u001b[39m)\n\u001b[0;32m---> 14\u001b[0m     phdi\u001b[39m.\u001b[39;49mfhir\u001b[39m.\u001b[39mtransport\u001b[39m.\u001b[39mhttp\u001b[39m.\u001b[39mhttp_request_with_reauth(cred_manager\u001b[39m=\u001b[39m\u001b[39mNone\u001b[39;00m, url\u001b[39m=\u001b[39m\u001b[39m\"\u001b[39m\u001b[39mhttp://localhost:8080/\u001b[39m\u001b[39m\"\u001b[39m, retry_count\u001b[39m=\u001b[39m\u001b[39m3\u001b[39m, request_type\u001b[39m=\u001b[39m\u001b[39m\"\u001b[39m\u001b[39mPOST\u001b[39m\u001b[39m\"\u001b[39m, allowed_methods\u001b[39m=\u001b[39m\u001b[39m\"\u001b[39m\u001b[39mPOST\u001b[39m\u001b[39m\"\u001b[39m, headers\u001b[39m=\u001b[39m{}, data\u001b[39m=\u001b[39mjson\u001b[39m.\u001b[39mload(fhir_file))\n",
      "\u001b[0;31mAttributeError\u001b[0m: module 'phdi' has no attribute 'fhir'"
     ]
    }
   ],
   "source": [
    "import json\n",
    "import phdi.fhir.transport\n",
    "import os\n",
    "import pathlib\n",
    "from phdi.fhir.transport.http import (\n",
    "    http_request_with_reauth\n",
    ")\n",
    "\n",
    "base_path = os.path.join(\"target\",\"output\",\"fhir\")\n",
    "for fhir_filename in os.listdir(base_path):\n",
    "    fhir_filepath = os.path.join(base_path, fhir_filename)\n",
    "    print(f\"Evaluating {fhir_filepath}\")\n",
    "\n",
    "    if os.path.isfile(fhir_filepath) and fhir_filepath.endswith(\".json\"):\n",
    "        with open(fhir_filepath) as fhir_file:\n",
    "            print(f\"Importing {fhir_filepath}\")\n",
    "            http_request_with_reauth(cred_manager=None, url=\"http://localhost:8080/\", retry_count=3, request_type=\"POST\", allowed_methods=\"POST\", headers={}, data=json.load(fhir_file))"
   ]
  },
  {
   "cell_type": "code",
   "execution_count": null,
   "metadata": {},
   "outputs": [],
   "source": []
  }
 ],
 "metadata": {
  "kernelspec": {
   "display_name": "Python 3.10.6 ('phdi-z_666vlS-py3.10')",
   "language": "python",
   "name": "python3"
  },
  "language_info": {
   "codemirror_mode": {
    "name": "ipython",
    "version": 3
   },
   "file_extension": ".py",
   "mimetype": "text/x-python",
   "name": "python",
   "nbconvert_exporter": "python",
   "pygments_lexer": "ipython3",
   "version": "3.10.6"
  },
  "orig_nbformat": 4,
  "vscode": {
   "interpreter": {
    "hash": "3b229d979361d80857e29921cb5c59be4668e7adeb6d3128e2338b5b7b3e80e7"
   }
  }
 },
 "nbformat": 4,
 "nbformat_minor": 2
}
