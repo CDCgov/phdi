{
 "cells": [
  {
   "cell_type": "markdown",
   "metadata": {},
   "source": [
    "# Description\n",
    "This notebook will help setup and run a HAPI FHIR server, and load synthetic data into it.\n",
    "\n",
    "# Requirements\n",
    "* Python with the `phdi` package installed\n",
    "* Java 11+ JDK - not JRE (for Synthea)\n",
    "* (recommended) wget command line tool"
   ]
  },
  {
   "cell_type": "code",
   "execution_count": 2,
   "metadata": {},
   "outputs": [],
   "source": [
    "import requests\n",
    "import os\n",
    "\n",
    "synthea_url = \"https://github.com/synthetichealth/synthea/releases/download/master-branch-latest/synthea-with-dependencies.jar\"\n",
    "\n",
    "\n",
    "# Download the synthea jar file\n",
    "synthea_jar_response = requests.get(synthea_url, stream=True)\n",
    "if not os.path.isdir(\"target\"):\n",
    "    os.mkdir(\"target\")\n",
    "\n",
    "with open(\"target/synthea-with-dependencies.jar\",\"wb\") as file:\n",
    "    for chunk in synthea_jar_response.iter_content(chunk_size=1024):\n",
    "        file.write(chunk)"
   ]
  }
 ],
 "metadata": {
  "kernelspec": {
   "display_name": "Python 3.9.12 64-bit ('phdi')",
   "language": "python",
   "name": "python3"
  },
  "language_info": {
   "codemirror_mode": {
    "name": "ipython",
    "version": 3
   },
   "file_extension": ".py",
   "mimetype": "text/x-python",
   "name": "python",
   "nbconvert_exporter": "python",
   "pygments_lexer": "ipython3",
   "version": "3.9.12"
  },
  "orig_nbformat": 4,
  "vscode": {
   "interpreter": {
    "hash": "e103a5e2cf332ada5e63cb8ed09836b0c0753cc78d7570640dbe1135af568ea1"
   }
  }
 },
 "nbformat": 4,
 "nbformat_minor": 2
}
